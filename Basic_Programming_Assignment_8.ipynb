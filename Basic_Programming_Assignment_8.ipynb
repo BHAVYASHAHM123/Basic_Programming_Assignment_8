{
  "nbformat": 4,
  "nbformat_minor": 0,
  "metadata": {
    "colab": {
      "name": "Basic_Programming_Assignment_8.ipynb",
      "provenance": []
    },
    "kernelspec": {
      "name": "python3",
      "display_name": "Python 3"
    },
    "language_info": {
      "name": "python"
    }
  },
  "cells": [
    {
      "cell_type": "markdown",
      "source": [
        "Q1). Write a Python Program to Add Two Matrices?"
      ],
      "metadata": {
        "id": "nEW9CcyYRhqK"
      }
    },
    {
      "cell_type": "code",
      "execution_count": 4,
      "metadata": {
        "colab": {
          "base_uri": "https://localhost:8080/"
        },
        "id": "KcIKGBaERb57",
        "outputId": "a205590d-34a0-4883-89f5-bb9cc4c81ebf"
      },
      "outputs": [
        {
          "output_type": "stream",
          "name": "stdout",
          "text": [
            "[10, 10, 10]\n",
            "[10, 10, 10]\n",
            "[10, 10, 10]\n"
          ]
        }
      ],
      "source": [
        "a = [1,2,3], [4,5,6], [7,8,9]\n",
        "b = [9,8,7], [6,5,4], [3,2,1]\n",
        "c = [0,0,0], [0,0,0], [0,0,0]\n",
        "\n",
        "for i in range(len(a)):\n",
        "   for j in range(len(a[0])):\n",
        "       c[i][j] = a[i][j] + b[i][j]\n",
        "\n",
        "for r in c:\n",
        "   print(r)"
      ]
    },
    {
      "cell_type": "markdown",
      "source": [
        "Q2). Write a Python Program to Multiply Two Matrices?"
      ],
      "metadata": {
        "id": "8C5shps5Tt47"
      }
    },
    {
      "cell_type": "code",
      "source": [
        "a = [1,2,3], [4,5,6], [7,8,9]\n",
        "b = [9,8,7], [6,5,4], [3,2,1]\n",
        "c = [0,0,0], [0,0,0], [0,0,0]\n",
        "\n",
        "for i in range(len(a)):\n",
        "   for j in range(len(a[0])):\n",
        "       c[i][j] = a[i][j] * b[i][j]\n",
        "\n",
        "for r in c:\n",
        "   print(r)"
      ],
      "metadata": {
        "colab": {
          "base_uri": "https://localhost:8080/"
        },
        "id": "EyqoYzsWSC3Z",
        "outputId": "0c82ec37-baed-4600-e29c-dc8293b917b6"
      },
      "execution_count": 5,
      "outputs": [
        {
          "output_type": "stream",
          "name": "stdout",
          "text": [
            "[9, 16, 21]\n",
            "[24, 25, 24]\n",
            "[21, 16, 9]\n"
          ]
        }
      ]
    },
    {
      "cell_type": "markdown",
      "source": [
        "Q3). Write a Python Program to Transpose a Matrix?"
      ],
      "metadata": {
        "id": "2m3urOtYT2Ap"
      }
    },
    {
      "cell_type": "code",
      "source": [
        "a = [1,2,3], [4,5,6], [7,8,9]\n",
        "b = [9,8,7], [6,5,4], [3,2,1]\n",
        "c = [0,0,0], [0,0,0], [0,0,0]\n",
        "\n",
        "\n",
        "for i in range(len(a)):\n",
        "   for j in range(len(a[0])):\n",
        "       c[j][i] = a[i][j]\n",
        "\n",
        "for r in c:\n",
        "   print(r)"
      ],
      "metadata": {
        "colab": {
          "base_uri": "https://localhost:8080/"
        },
        "id": "FXd5zSo2Ty0A",
        "outputId": "066d79a3-2c03-4175-aeee-b4078bb6bf9b"
      },
      "execution_count": 6,
      "outputs": [
        {
          "output_type": "stream",
          "name": "stdout",
          "text": [
            "[1, 4, 7]\n",
            "[2, 5, 8]\n",
            "[3, 6, 9]\n"
          ]
        }
      ]
    },
    {
      "cell_type": "markdown",
      "source": [
        "Q4). Write a Python Program to Sort Words in Alphabetic Order?\n",
        "\n",
        "Ans) "
      ],
      "metadata": {
        "id": "6l9e3btcURoT"
      }
    },
    {
      "cell_type": "code",
      "source": [
        "name = 'hello my name is bhavya shah'\n",
        "\n",
        "words = [word.lower() for word in name.split()]\n",
        "\n",
        "\n",
        "words.sort()\n",
        "\n",
        "print('The sorted words are : ')\n",
        "\n",
        "for i in words:\n",
        "  print(i)"
      ],
      "metadata": {
        "colab": {
          "base_uri": "https://localhost:8080/"
        },
        "id": "KiMydRhrUL33",
        "outputId": "4662867f-5954-4cb3-f3d1-0105b36f73e4"
      },
      "execution_count": 8,
      "outputs": [
        {
          "output_type": "stream",
          "name": "stdout",
          "text": [
            "The sorted words are : \n",
            "bhavya\n",
            "hello\n",
            "is\n",
            "my\n",
            "name\n",
            "shah\n"
          ]
        }
      ]
    },
    {
      "cell_type": "markdown",
      "source": [
        "Q5). Write a Python Program to Remove Punctuation From a String?"
      ],
      "metadata": {
        "id": "LDw-weueVJXw"
      }
    },
    {
      "cell_type": "code",
      "source": [
        "punctuations = '''!()-[]{};:'\"\\,<>./?@#$%^&*_~'''\n",
        "\n",
        "a = \"Hello!!!, he said ---and went.\"\n",
        "\n",
        "no_punct = \"\"\n",
        "for char in a:\n",
        "   if char not in punctuations:\n",
        "       no_punct = no_punct + char\n",
        "\n",
        "print(no_punct)\n"
      ],
      "metadata": {
        "colab": {
          "base_uri": "https://localhost:8080/"
        },
        "id": "-u_TBFVBU3Vt",
        "outputId": "d8317121-2318-4191-ab8f-65cb50c0ecea"
      },
      "execution_count": 9,
      "outputs": [
        {
          "output_type": "stream",
          "name": "stdout",
          "text": [
            "Hello he said and went\n"
          ]
        }
      ]
    },
    {
      "cell_type": "code",
      "source": [
        ""
      ],
      "metadata": {
        "id": "Jx0CXOtuVVHT"
      },
      "execution_count": null,
      "outputs": []
    }
  ]
}